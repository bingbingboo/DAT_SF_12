{
 "metadata": {
  "name": "",
  "signature": "sha256:040367949b8a0c85e3ab0d89b502534e91eb65174ab7da1f5047fc8d832d71db"
 },
 "nbformat": 3,
 "nbformat_minor": 0,
 "worksheets": [
  {
   "cells": [
    {
     "cell_type": "markdown",
     "metadata": {},
     "source": [
      "#HW 1 \n",
      "\n",
      "##In this homework, you will be using concepts from the SQL lecture and APIs to explroe a dataset and make some basic queries. "
     ]
    },
    {
     "cell_type": "code",
     "collapsed": false,
     "input": [
      "# Import Pandas, Numpy, Matplotlib, and Sqlite3\n",
      "import pandas as pd\n",
      "import numpy as np\n",
      "import matplotlib.pyplot as plt\n",
      "import sqlite3\n",
      "\n",
      "# This enables inline Plots\n",
      "%matplotlib inline\n",
      "\n",
      "# Limit rows displayed in notebook\n",
      "pd.set_option('display.max_rows', 10)\n",
      "pd.set_option('display.precision', 2)"
     ],
     "language": "python",
     "metadata": {},
     "outputs": [],
     "prompt_number": 81
    },
    {
     "cell_type": "markdown",
     "metadata": {},
     "source": [
      "#### 1. Connect to the SF.Gov API and pull data from the 311 Table\n",
      "https://data.sfgov.org/City-Infrastructure/Case-Data-from-San-Francisco-311-SF311-/vw6y-z8j6\n",
      "\n",
      "* 311 data contains over 1.1 Million rows in total. For this exercise, we are only looking to pull the FIRST 1000 rows\n",
      "\n",
      "Note: To get more data than 1000 rows, you may need to sign up for an app token to avoid throttling limits\n",
      "http://dev.socrata.com/foundry/#/data.sfgov.org/vw6y-z8j6\n",
      "\n",
      "We don't need this for the exercise, but something to keep in mind as you work with external APIs"
     ]
    },
    {
     "cell_type": "code",
     "collapsed": false,
     "input": [
      "# This will get you the first 1000 rows to get started with the rest of the questions\n",
      "import json\n",
      "import urllib\n",
      "\n",
      "url = \"https://data.sfgov.org/resource/vw6y-z8j6.json\"\n",
      "data = json.load(urllib.urlopen(url))"
     ],
     "language": "python",
     "metadata": {},
     "outputs": [],
     "prompt_number": 82
    },
    {
     "cell_type": "code",
     "collapsed": false,
     "input": [
      "#YOUR CODE HERE - Display the first element (row) in data\n",
      "print data [1]"
     ],
     "language": "python",
     "metadata": {},
     "outputs": [
      {
       "output_type": "stream",
       "stream": "stdout",
       "text": [
        "{}\n"
       ]
      }
     ],
     "prompt_number": 83
    },
    {
     "cell_type": "markdown",
     "metadata": {},
     "source": [
      "#### 2. How many elements are there in the JSON file? "
     ]
    },
    {
     "cell_type": "code",
     "collapsed": false,
     "input": [
      "print len(data)\n"
     ],
     "language": "python",
     "metadata": {},
     "outputs": [
      {
       "output_type": "stream",
       "stream": "stdout",
       "text": [
        "1000\n"
       ]
      }
     ],
     "prompt_number": 84
    },
    {
     "cell_type": "markdown",
     "metadata": {},
     "source": [
      "#### Display the length of the JSON object and display the elements contained in one of the items of the JSON file? "
     ]
    },
    {
     "cell_type": "code",
     "collapsed": false,
     "input": [
      "print data [300]\n",
      "\n",
      "\n"
     ],
     "language": "python",
     "metadata": {},
     "outputs": [
      {
       "output_type": "stream",
       "stream": "stdout",
       "text": [
        "{u'category': u'Abandoned Vehicle', u'status': u'Open', u'updated': u'2015-01-23T11:32:32', u'neighborhood': u'Noe Valley', u'opened': u'2015-01-23T10:47:43', u'point': {u'latitude': u'37.751725141801', u'needs_recoding': False, u'longitude': u'-122.436514613248'}, u'responsible_agency': u'DPT Abandoned Vehicles Work Queue', u'address': u'706 DIAMOND ST, SAN FRANCISCO, CA, 94114', u'supervisor_district': u'8', u'source': u'Voice In', u'request_type': u'Abandoned Vehicle - Motorcycle', u'case_id': u'4421132', u'request_details': u'Gray - Suzuki -  - 20x5983'}\n"
       ]
      }
     ],
     "prompt_number": 85
    },
    {
     "cell_type": "markdown",
     "metadata": {},
     "source": [
      "####3. Use Pandas \"Read JSON\" functionality to turn the 311 data into a Pandas Dataframe and display the first 20 rows\n"
     ]
    },
    {
     "cell_type": "code",
     "collapsed": false,
     "input": [
      "df=pd.DataFrame(data)\n",
      "print df.head(20)\n",
      "\n",
      "\n",
      "\n",
      "\n"
     ],
     "language": "python",
     "metadata": {},
     "outputs": [
      {
       "output_type": "stream",
       "stream": "stdout",
       "text": [
        "   address case_id category closed media_url neighborhood opened point  \\\n",
        "0      NaN     NaN      NaN    NaN       NaN          NaN    NaN   NaN   \n",
        "1      NaN     NaN      NaN    NaN       NaN          NaN    NaN   NaN   \n",
        "2      NaN     NaN      NaN    NaN       NaN          NaN    NaN   NaN   \n",
        "3      NaN     NaN      NaN    NaN       NaN          NaN    NaN   NaN   \n",
        "4      NaN     NaN      NaN    NaN       NaN          NaN    NaN   NaN   \n",
        "..     ...     ...      ...    ...       ...          ...    ...   ...   \n",
        "15     NaN     NaN      NaN    NaN       NaN          NaN    NaN   NaN   \n",
        "16     NaN     NaN      NaN    NaN       NaN          NaN    NaN   NaN   \n",
        "17     NaN     NaN      NaN    NaN       NaN          NaN    NaN   NaN   \n",
        "18     NaN     NaN      NaN    NaN       NaN          NaN    NaN   NaN   \n",
        "19     NaN     NaN      NaN    NaN       NaN          NaN    NaN   NaN   \n",
        "\n",
        "   request_details request_type responsible_agency source status  \\\n",
        "0              NaN          NaN                NaN    NaN    NaN   \n",
        "1              NaN          NaN                NaN    NaN    NaN   \n",
        "2              NaN          NaN                NaN    NaN    NaN   \n",
        "3              NaN          NaN                NaN    NaN    NaN   \n",
        "4              NaN          NaN                NaN    NaN    NaN   \n",
        "..             ...          ...                ...    ...    ...   \n",
        "15             NaN          NaN                NaN    NaN    NaN   \n",
        "16             NaN          NaN                NaN    NaN    NaN   \n",
        "17             NaN          NaN                NaN    NaN    NaN   \n",
        "18             NaN          NaN                NaN    NaN    NaN   \n",
        "19             NaN          NaN                NaN    NaN    NaN   \n",
        "\n",
        "   supervisor_district updated  \n",
        "0                  NaN     NaN  \n",
        "1                  NaN     NaN  \n",
        "2                  NaN     NaN  \n",
        "3                  NaN     NaN  \n",
        "4                  NaN     NaN  \n",
        "..                 ...     ...  \n",
        "15                 NaN     NaN  \n",
        "16                 NaN     NaN  \n",
        "17                 NaN     NaN  \n",
        "18                 NaN     NaN  \n",
        "19                 NaN     NaN  \n",
        "\n",
        "[20 rows x 15 columns]\n"
       ]
      }
     ],
     "prompt_number": 93
    },
    {
     "cell_type": "markdown",
     "metadata": {},
     "source": [
      "####4. How many missing values do we have? "
     ]
    },
    {
     "cell_type": "code",
     "collapsed": false,
     "input": [
      "df.isnull().sum()"
     ],
     "language": "python",
     "metadata": {},
     "outputs": [
      {
       "metadata": {},
       "output_type": "pyout",
       "prompt_number": 94,
       "text": [
        "address     253\n",
        "case_id     253\n",
        "category    253\n",
        "...\n",
        "status                 253\n",
        "supervisor_district    253\n",
        "updated                253\n",
        "Length: 15, dtype: int64"
       ]
      }
     ],
     "prompt_number": 94
    },
    {
     "cell_type": "markdown",
     "metadata": {},
     "source": [
      "####5. Drop the \"point\" feature from the dataframe - its a dictionary, which is unsupported in a flat database"
     ]
    },
    {
     "cell_type": "code",
     "collapsed": false,
     "input": [
      "df=df.drop('point', 1)"
     ],
     "language": "python",
     "metadata": {},
     "outputs": [],
     "prompt_number": 96
    },
    {
     "cell_type": "markdown",
     "metadata": {},
     "source": [
      "####5. Turn the 311 data into a database. You can use the pandas read_sql command (example [here)]('http://bit.ly/1EoP81v') or the db package from yHat to do this. "
     ]
    },
    {
     "cell_type": "code",
     "collapsed": false,
     "input": [
      "df=df.drop('media_url',1)\n"
     ],
     "language": "python",
     "metadata": {},
     "outputs": [],
     "prompt_number": 102
    },
    {
     "cell_type": "code",
     "collapsed": false,
     "input": [
      "df\n"
     ],
     "language": "python",
     "metadata": {},
     "outputs": [
      {
       "html": [
        "<div style=\"max-height:1000px;max-width:1500px;overflow:auto;\">\n",
        "<table border=\"1\" class=\"dataframe\">\n",
        "  <thead>\n",
        "    <tr style=\"text-align: right;\">\n",
        "      <th></th>\n",
        "      <th>address</th>\n",
        "      <th>case_id</th>\n",
        "      <th>category</th>\n",
        "      <th>closed</th>\n",
        "      <th>neighborhood</th>\n",
        "      <th>opened</th>\n",
        "      <th>request_details</th>\n",
        "      <th>request_type</th>\n",
        "      <th>responsible_agency</th>\n",
        "      <th>source</th>\n",
        "      <th>status</th>\n",
        "      <th>supervisor_district</th>\n",
        "      <th>updated</th>\n",
        "    </tr>\n",
        "  </thead>\n",
        "  <tbody>\n",
        "    <tr>\n",
        "      <th>0  </th>\n",
        "      <td>                                              NaN</td>\n",
        "      <td>     NaN</td>\n",
        "      <td>                          NaN</td>\n",
        "      <td>                 NaN</td>\n",
        "      <td>                   NaN</td>\n",
        "      <td>                 NaN</td>\n",
        "      <td>                                     NaN</td>\n",
        "      <td>                             NaN</td>\n",
        "      <td>                                               NaN</td>\n",
        "      <td>              NaN</td>\n",
        "      <td>    NaN</td>\n",
        "      <td> NaN</td>\n",
        "      <td>                 NaN</td>\n",
        "    </tr>\n",
        "    <tr>\n",
        "      <th>1  </th>\n",
        "      <td>                                              NaN</td>\n",
        "      <td>     NaN</td>\n",
        "      <td>                          NaN</td>\n",
        "      <td>                 NaN</td>\n",
        "      <td>                   NaN</td>\n",
        "      <td>                 NaN</td>\n",
        "      <td>                                     NaN</td>\n",
        "      <td>                             NaN</td>\n",
        "      <td>                                               NaN</td>\n",
        "      <td>              NaN</td>\n",
        "      <td>    NaN</td>\n",
        "      <td> NaN</td>\n",
        "      <td>                 NaN</td>\n",
        "    </tr>\n",
        "    <tr>\n",
        "      <th>2  </th>\n",
        "      <td>                                              NaN</td>\n",
        "      <td>     NaN</td>\n",
        "      <td>                          NaN</td>\n",
        "      <td>                 NaN</td>\n",
        "      <td>                   NaN</td>\n",
        "      <td>                 NaN</td>\n",
        "      <td>                                     NaN</td>\n",
        "      <td>                             NaN</td>\n",
        "      <td>                                               NaN</td>\n",
        "      <td>              NaN</td>\n",
        "      <td>    NaN</td>\n",
        "      <td> NaN</td>\n",
        "      <td>                 NaN</td>\n",
        "    </tr>\n",
        "    <tr>\n",
        "      <th>3  </th>\n",
        "      <td>                                              NaN</td>\n",
        "      <td>     NaN</td>\n",
        "      <td>                          NaN</td>\n",
        "      <td>                 NaN</td>\n",
        "      <td>                   NaN</td>\n",
        "      <td>                 NaN</td>\n",
        "      <td>                                     NaN</td>\n",
        "      <td>                             NaN</td>\n",
        "      <td>                                               NaN</td>\n",
        "      <td>              NaN</td>\n",
        "      <td>    NaN</td>\n",
        "      <td> NaN</td>\n",
        "      <td>                 NaN</td>\n",
        "    </tr>\n",
        "    <tr>\n",
        "      <th>4  </th>\n",
        "      <td>                                              NaN</td>\n",
        "      <td>     NaN</td>\n",
        "      <td>                          NaN</td>\n",
        "      <td>                 NaN</td>\n",
        "      <td>                   NaN</td>\n",
        "      <td>                 NaN</td>\n",
        "      <td>                                     NaN</td>\n",
        "      <td>                             NaN</td>\n",
        "      <td>                                               NaN</td>\n",
        "      <td>              NaN</td>\n",
        "      <td>    NaN</td>\n",
        "      <td> NaN</td>\n",
        "      <td>                 NaN</td>\n",
        "    </tr>\n",
        "    <tr>\n",
        "      <th>...</th>\n",
        "      <td>...</td>\n",
        "      <td>...</td>\n",
        "      <td>...</td>\n",
        "      <td>...</td>\n",
        "      <td>...</td>\n",
        "      <td>...</td>\n",
        "      <td>...</td>\n",
        "      <td>...</td>\n",
        "      <td>...</td>\n",
        "      <td>...</td>\n",
        "      <td>...</td>\n",
        "      <td>...</td>\n",
        "      <td>...</td>\n",
        "    </tr>\n",
        "    <tr>\n",
        "      <th>995</th>\n",
        "      <td>            150 TURK ST, SAN FRANCISCO, CA, 94102</td>\n",
        "      <td> 4417047</td>\n",
        "      <td> Street and Sidewalk Cleaning</td>\n",
        "      <td> 2015-01-23T07:18:46</td>\n",
        "      <td> Downtown/Civic Center</td>\n",
        "      <td> 2015-01-22T08:52:37</td>\n",
        "      <td>                     Other Loose Garbage</td>\n",
        "      <td>                General Cleaning</td>\n",
        "      <td>                                     DPW Ops Queue</td>\n",
        "      <td>         Voice In</td>\n",
        "      <td> Closed</td>\n",
        "      <td>   6</td>\n",
        "      <td> 2015-01-23T07:18:46</td>\n",
        "    </tr>\n",
        "    <tr>\n",
        "      <th>996</th>\n",
        "      <td>          Intersection of ELM ST and VAN NESS AVE</td>\n",
        "      <td> 4417041</td>\n",
        "      <td> Street and Sidewalk Cleaning</td>\n",
        "      <td> 2015-01-22T10:46:19</td>\n",
        "      <td> Downtown/Civic Center</td>\n",
        "      <td> 2015-01-22T08:50:58</td>\n",
        "      <td>                     Other Loose Garbage</td>\n",
        "      <td>                General Cleaning</td>\n",
        "      <td>                                Recology_Abandoned</td>\n",
        "      <td>         Voice In</td>\n",
        "      <td> Closed</td>\n",
        "      <td>   6</td>\n",
        "      <td> 2015-01-22T10:46:19</td>\n",
        "    </tr>\n",
        "    <tr>\n",
        "      <th>997</th>\n",
        "      <td>            351 POPE ST, SAN FRANCISCO, CA, 94112</td>\n",
        "      <td> 4417039</td>\n",
        "      <td> Street and Sidewalk Cleaning</td>\n",
        "      <td> 2015-01-23T07:47:27</td>\n",
        "      <td>        Crocker Amazon</td>\n",
        "      <td> 2015-01-22T08:50:37</td>\n",
        "      <td>                     Other Loose Garbage</td>\n",
        "      <td>                General Cleaning</td>\n",
        "      <td>                                     DPW Ops Queue</td>\n",
        "      <td>         Voice In</td>\n",
        "      <td> Closed</td>\n",
        "      <td>  11</td>\n",
        "      <td> 2015-01-23T07:47:27</td>\n",
        "    </tr>\n",
        "    <tr>\n",
        "      <th>998</th>\n",
        "      <td> 600 SOUTH VAN NESS AVE, SAN FRANCISCO, CA, 94110</td>\n",
        "      <td> 4417036</td>\n",
        "      <td>   Blocked Street or SideWalk</td>\n",
        "      <td> 2015-01-22T09:27:43</td>\n",
        "      <td>               Mission</td>\n",
        "      <td> 2015-01-22T08:50:33</td>\n",
        "      <td> Cafe_table_and_chairs blocking sidewalk</td>\n",
        "      <td>                Blocked_Sidewalk</td>\n",
        "      <td>                              311 Supervisor Queue</td>\n",
        "      <td>          Open311</td>\n",
        "      <td> Closed</td>\n",
        "      <td>   9</td>\n",
        "      <td> 2015-01-22T09:27:43</td>\n",
        "    </tr>\n",
        "    <tr>\n",
        "      <th>999</th>\n",
        "      <td>         649 ANDOVER ST, SAN FRANCISCO, CA, 94110</td>\n",
        "      <td> 4417033</td>\n",
        "      <td>             General Requests</td>\n",
        "      <td> 2015-01-22T15:30:44</td>\n",
        "      <td>        Bernal Heights</td>\n",
        "      <td> 2015-01-22T08:50:08</td>\n",
        "      <td>         dpw - bsm - request_for_service</td>\n",
        "      <td> dpw - bsm - request_for_service</td>\n",
        "      <td> DPW - Bureau of Street Environmental Services - G</td>\n",
        "      <td> Web Self Service</td>\n",
        "      <td> Closed</td>\n",
        "      <td>   9</td>\n",
        "      <td> 2015-01-22T15:30:44</td>\n",
        "    </tr>\n",
        "  </tbody>\n",
        "</table>\n",
        "<p>1000 rows \u00d7 13 columns</p>\n",
        "</div>"
       ],
       "metadata": {},
       "output_type": "pyout",
       "prompt_number": 103,
       "text": [
        "                                              address  case_id  \\\n",
        "0                                                 NaN      NaN   \n",
        "1                                                 NaN      NaN   \n",
        "2                                                 NaN      NaN   \n",
        "3                                                 NaN      NaN   \n",
        "4                                                 NaN      NaN   \n",
        "..                                                ...      ...   \n",
        "995             150 TURK ST, SAN FRANCISCO, CA, 94102  4417047   \n",
        "996           Intersection of ELM ST and VAN NESS AVE  4417041   \n",
        "997             351 POPE ST, SAN FRANCISCO, CA, 94112  4417039   \n",
        "998  600 SOUTH VAN NESS AVE, SAN FRANCISCO, CA, 94110  4417036   \n",
        "999          649 ANDOVER ST, SAN FRANCISCO, CA, 94110  4417033   \n",
        "\n",
        "                         category               closed           neighborhood  \\\n",
        "0                             NaN                  NaN                    NaN   \n",
        "1                             NaN                  NaN                    NaN   \n",
        "2                             NaN                  NaN                    NaN   \n",
        "3                             NaN                  NaN                    NaN   \n",
        "4                             NaN                  NaN                    NaN   \n",
        "..                            ...                  ...                    ...   \n",
        "995  Street and Sidewalk Cleaning  2015-01-23T07:18:46  Downtown/Civic Center   \n",
        "996  Street and Sidewalk Cleaning  2015-01-22T10:46:19  Downtown/Civic Center   \n",
        "997  Street and Sidewalk Cleaning  2015-01-23T07:47:27         Crocker Amazon   \n",
        "998    Blocked Street or SideWalk  2015-01-22T09:27:43                Mission   \n",
        "999              General Requests  2015-01-22T15:30:44         Bernal Heights   \n",
        "\n",
        "                  opened                          request_details  \\\n",
        "0                    NaN                                      NaN   \n",
        "1                    NaN                                      NaN   \n",
        "2                    NaN                                      NaN   \n",
        "3                    NaN                                      NaN   \n",
        "4                    NaN                                      NaN   \n",
        "..                   ...                                      ...   \n",
        "995  2015-01-22T08:52:37                      Other Loose Garbage   \n",
        "996  2015-01-22T08:50:58                      Other Loose Garbage   \n",
        "997  2015-01-22T08:50:37                      Other Loose Garbage   \n",
        "998  2015-01-22T08:50:33  Cafe_table_and_chairs blocking sidewalk   \n",
        "999  2015-01-22T08:50:08          dpw - bsm - request_for_service   \n",
        "\n",
        "                        request_type  \\\n",
        "0                                NaN   \n",
        "1                                NaN   \n",
        "2                                NaN   \n",
        "3                                NaN   \n",
        "4                                NaN   \n",
        "..                               ...   \n",
        "995                 General Cleaning   \n",
        "996                 General Cleaning   \n",
        "997                 General Cleaning   \n",
        "998                 Blocked_Sidewalk   \n",
        "999  dpw - bsm - request_for_service   \n",
        "\n",
        "                                    responsible_agency            source  \\\n",
        "0                                                  NaN               NaN   \n",
        "1                                                  NaN               NaN   \n",
        "2                                                  NaN               NaN   \n",
        "3                                                  NaN               NaN   \n",
        "4                                                  NaN               NaN   \n",
        "..                                                 ...               ...   \n",
        "995                                      DPW Ops Queue          Voice In   \n",
        "996                                 Recology_Abandoned          Voice In   \n",
        "997                                      DPW Ops Queue          Voice In   \n",
        "998                               311 Supervisor Queue           Open311   \n",
        "999  DPW - Bureau of Street Environmental Services - G  Web Self Service   \n",
        "\n",
        "     status supervisor_district              updated  \n",
        "0       NaN                 NaN                  NaN  \n",
        "1       NaN                 NaN                  NaN  \n",
        "2       NaN                 NaN                  NaN  \n",
        "3       NaN                 NaN                  NaN  \n",
        "4       NaN                 NaN                  NaN  \n",
        "..      ...                 ...                  ...  \n",
        "995  Closed                   6  2015-01-23T07:18:46  \n",
        "996  Closed                   6  2015-01-22T10:46:19  \n",
        "997  Closed                  11  2015-01-23T07:47:27  \n",
        "998  Closed                   9  2015-01-22T09:27:43  \n",
        "999  Closed                   9  2015-01-22T15:30:44  \n",
        "\n",
        "[1000 rows x 13 columns]"
       ]
      }
     ],
     "prompt_number": 103
    },
    {
     "cell_type": "code",
     "collapsed": false,
     "input": [
      "con = sqlite3.connect('/Users/bingrongwang/DAT_SF_12/enron.db')\n",
      "\n",
      "                   \n",
      "\n"
     ],
     "language": "python",
     "metadata": {},
     "outputs": [],
     "prompt_number": 104
    },
    {
     "cell_type": "code",
     "collapsed": false,
     "input": [
      "con.execute(\"DROP TABLE IF EXISTS sf_df\")\n",
      "\n"
     ],
     "language": "python",
     "metadata": {},
     "outputs": [
      {
       "metadata": {},
       "output_type": "pyout",
       "prompt_number": 105,
       "text": [
        "<sqlite3.Cursor at 0x10b217c70>"
       ]
      }
     ],
     "prompt_number": 105
    },
    {
     "cell_type": "code",
     "collapsed": false,
     "input": [
      "df.to_sql(\"sf_df\", con)"
     ],
     "language": "python",
     "metadata": {},
     "outputs": [],
     "prompt_number": 106
    },
    {
     "cell_type": "code",
     "collapsed": false,
     "input": [
      "c = con.cursor()"
     ],
     "language": "python",
     "metadata": {},
     "outputs": [],
     "prompt_number": 128
    },
    {
     "cell_type": "heading",
     "level": 6,
     "metadata": {},
     "source": [
      "6. Display the first 5 rows of the DB"
     ]
    },
    {
     "cell_type": "code",
     "collapsed": false,
     "input": [
      "\n",
      "\"SELECT * FROM sf_df limit 5\"\n"
     ],
     "language": "python",
     "metadata": {},
     "outputs": [
      {
       "metadata": {},
       "output_type": "pyout",
       "prompt_number": 131,
       "text": [
        "<sqlite3.Cursor at 0x10b61dc00>"
       ]
      }
     ],
     "prompt_number": 131
    },
    {
     "cell_type": "code",
     "collapsed": false,
     "input": [
      "SELECT * FROM sf_df where neighborhood=\"Haight Ashbury\" LIMIT 5\n",
      "\n"
     ],
     "language": "python",
     "metadata": {},
     "outputs": [
      {
       "ename": "SyntaxError",
       "evalue": "invalid syntax (<ipython-input-134-8d1eef90d421>, line 1)",
       "output_type": "pyerr",
       "traceback": [
        "\u001b[0;36m  File \u001b[0;32m\"<ipython-input-134-8d1eef90d421>\"\u001b[0;36m, line \u001b[0;32m1\u001b[0m\n\u001b[0;31m    c.execute(\"SELECT * FROM sf_df where neighborhood=\"Haight Ashbury\" LIMIT 5\")\u001b[0m\n\u001b[0m                                                            ^\u001b[0m\n\u001b[0;31mSyntaxError\u001b[0m\u001b[0;31m:\u001b[0m invalid syntax\n"
       ]
      }
     ],
     "prompt_number": 134
    },
    {
     "cell_type": "markdown",
     "metadata": {},
     "source": [
      "####7. Show 10 of the sidewalk cleanings in the Haight Ashbury neighborhood"
     ]
    },
    {
     "cell_type": "code",
     "collapsed": false,
     "input": [
      "SELECT * FROM sf_df where neighborhood=\"Haight Ashbury\" and category LIKE \"%Sidewalk Cleaning%\";"
     ],
     "language": "python",
     "metadata": {},
     "outputs": [],
     "prompt_number": 78
    },
    {
     "cell_type": "markdown",
     "metadata": {},
     "source": [
      "####8. Which type of complaint was most common? "
     ]
    },
    {
     "cell_type": "code",
     "collapsed": false,
     "input": [
      "SELECT count(case_id) as c, request_type FROM sf_df group by request_type order by c desc;"
     ],
     "language": "python",
     "metadata": {},
     "outputs": [],
     "prompt_number": 2
    },
    {
     "cell_type": "markdown",
     "metadata": {},
     "source": [
      "####9. Are there any neighborhoods where sidewalk cleaning requests aren't the most common? "
     ]
    },
    {
     "cell_type": "code",
     "collapsed": false,
     "input": [
      "SELECT count(case_id) as c, request_type, neighborhood \n",
      "FROM sf_df \n",
      "where request_type  not like \"%Sidewalk Cleaning%\"    \n",
      "group by request_type,neighborhood\n",
      "order by c desc;\n",
      "\n"
     ],
     "language": "python",
     "metadata": {},
     "outputs": [],
     "prompt_number": 1
    },
    {
     "cell_type": "markdown",
     "metadata": {},
     "source": [
      "####BONUS: Come up with your own query! Challenge your fellow classmates by posting your query on HipChat."
     ]
    },
    {
     "cell_type": "code",
     "collapsed": false,
     "input": [
      "#YOUR CODE HERE"
     ],
     "language": "python",
     "metadata": {},
     "outputs": []
    }
   ],
   "metadata": {}
  }
 ]
}